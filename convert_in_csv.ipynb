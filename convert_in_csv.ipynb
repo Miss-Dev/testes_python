{
  "nbformat": 4,
  "nbformat_minor": 0,
  "metadata": {
    "colab": {
      "name": "convert_in_csv.ipynb",
      "provenance": [],
      "authorship_tag": "ABX9TyPTKW22BEkxU001MRfhuTkA",
      "include_colab_link": true
    },
    "kernelspec": {
      "name": "python3",
      "display_name": "Python 3"
    },
    "language_info": {
      "name": "python"
    }
  },
  "cells": [
    {
      "cell_type": "markdown",
      "metadata": {
        "id": "view-in-github",
        "colab_type": "text"
      },
      "source": [
        "<a href=\"https://colab.research.google.com/github/Miss-Dev/testes_python/blob/main/convert_in_csv.ipynb\" target=\"_parent\"><img src=\"https://colab.research.google.com/assets/colab-badge.svg\" alt=\"Open In Colab\"/></a>"
      ]
    },
    {
      "cell_type": "markdown",
      "metadata": {
        "id": "hpgpPZ0u0h4h"
      },
      "source": [
        "#Transformando tabelas de um arquivo pdf em csv"
      ]
    },
    {
      "cell_type": "code",
      "metadata": {
        "colab": {
          "base_uri": "https://localhost:8080/"
        },
        "id": "n7EN6wW-dilt",
        "outputId": "3bffad21-b035-493c-a0aa-c502d861c444"
      },
      "source": [
        "pip install tabula-py"
      ],
      "execution_count": 1,
      "outputs": [
        {
          "output_type": "stream",
          "text": [
            "Collecting tabula-py\n",
            "\u001b[?25l  Downloading https://files.pythonhosted.org/packages/cf/29/d6cb0d77ef46d84d35cffa09cf42c73b373aea664d28604eab6818f8a47c/tabula_py-2.2.0-py3-none-any.whl (11.7MB)\n",
            "\u001b[K     |████████████████████████████████| 11.7MB 17.4MB/s \n",
            "\u001b[?25hRequirement already satisfied: pandas>=0.25.3 in /usr/local/lib/python3.7/dist-packages (from tabula-py) (1.1.5)\n",
            "Collecting distro\n",
            "  Downloading https://files.pythonhosted.org/packages/25/b7/b3c4270a11414cb22c6352ebc7a83aaa3712043be29daa05018fd5a5c956/distro-1.5.0-py2.py3-none-any.whl\n",
            "Requirement already satisfied: numpy in /usr/local/lib/python3.7/dist-packages (from tabula-py) (1.19.5)\n",
            "Requirement already satisfied: pytz>=2017.2 in /usr/local/lib/python3.7/dist-packages (from pandas>=0.25.3->tabula-py) (2018.9)\n",
            "Requirement already satisfied: python-dateutil>=2.7.3 in /usr/local/lib/python3.7/dist-packages (from pandas>=0.25.3->tabula-py) (2.8.1)\n",
            "Requirement already satisfied: six>=1.5 in /usr/local/lib/python3.7/dist-packages (from python-dateutil>=2.7.3->pandas>=0.25.3->tabula-py) (1.15.0)\n",
            "Installing collected packages: distro, tabula-py\n",
            "Successfully installed distro-1.5.0 tabula-py-2.2.0\n"
          ],
          "name": "stdout"
        }
      ]
    },
    {
      "cell_type": "code",
      "metadata": {
        "id": "e_XseVW2DivD"
      },
      "source": [
        "#importando bibliotecas\n",
        "import pandas as pd\n",
        "from tabula import read_pdf\n"
      ],
      "execution_count": 2,
      "outputs": []
    },
    {
      "cell_type": "code",
      "metadata": {
        "id": "L3HhtNyxFCrE"
      },
      "source": [
        "\n",
        "df = read_pdf(\"https://github.com/Miss-Dev/testes_python/raw/main/arquivo_componente_organizacional.pdf\", pages=\"79\", stream=True)\n"
      ],
      "execution_count": 5,
      "outputs": []
    },
    {
      "cell_type": "code",
      "metadata": {
        "colab": {
          "base_uri": "https://localhost:8080/"
        },
        "id": "6devxlebeh4A",
        "outputId": "c42b9773-e27e-4736-d904-6f352bda0541"
      },
      "source": [
        "df"
      ],
      "execution_count": 6,
      "outputs": [
        {
          "output_type": "execute_result",
          "data": {
            "text/plain": [
              "[    Tabela de Tipo do Demandante\n",
              " 0  Código Descrição da categoria\n",
              " 1                    1 Operadora\n",
              " 2         2 Prestador de serviço\n",
              " 3                   3 Consumidor\n",
              " 4                       4 Gestor\n",
              " 5                          5 ANS,\n",
              "   Unnamed: 0                 Tabela de Categoria do Padrão TISS\n",
              " 0     Código                             Descrição da categoria\n",
              " 1          1                          Componente Organizacional\n",
              " 2          2                 Componente de Conteúdo e Estrutura\n",
              " 3          3  Componente de Representação de Conceitos em Saúde]"
            ]
          },
          "metadata": {
            "tags": []
          },
          "execution_count": 6
        }
      ]
    },
    {
      "cell_type": "code",
      "metadata": {
        "colab": {
          "base_uri": "https://localhost:8080/",
          "height": 235
        },
        "id": "QpeUMBodnQmP",
        "outputId": "a20bf173-ce60-4f58-9483-8410b2951beb"
      },
      "source": [
        "df[0]\n"
      ],
      "execution_count": 7,
      "outputs": [
        {
          "output_type": "execute_result",
          "data": {
            "text/html": [
              "<div>\n",
              "<style scoped>\n",
              "    .dataframe tbody tr th:only-of-type {\n",
              "        vertical-align: middle;\n",
              "    }\n",
              "\n",
              "    .dataframe tbody tr th {\n",
              "        vertical-align: top;\n",
              "    }\n",
              "\n",
              "    .dataframe thead th {\n",
              "        text-align: right;\n",
              "    }\n",
              "</style>\n",
              "<table border=\"1\" class=\"dataframe\">\n",
              "  <thead>\n",
              "    <tr style=\"text-align: right;\">\n",
              "      <th></th>\n",
              "      <th>Tabela de Tipo do Demandante</th>\n",
              "    </tr>\n",
              "  </thead>\n",
              "  <tbody>\n",
              "    <tr>\n",
              "      <th>0</th>\n",
              "      <td>Código Descrição da categoria</td>\n",
              "    </tr>\n",
              "    <tr>\n",
              "      <th>1</th>\n",
              "      <td>1 Operadora</td>\n",
              "    </tr>\n",
              "    <tr>\n",
              "      <th>2</th>\n",
              "      <td>2 Prestador de serviço</td>\n",
              "    </tr>\n",
              "    <tr>\n",
              "      <th>3</th>\n",
              "      <td>3 Consumidor</td>\n",
              "    </tr>\n",
              "    <tr>\n",
              "      <th>4</th>\n",
              "      <td>4 Gestor</td>\n",
              "    </tr>\n",
              "    <tr>\n",
              "      <th>5</th>\n",
              "      <td>5 ANS</td>\n",
              "    </tr>\n",
              "  </tbody>\n",
              "</table>\n",
              "</div>"
            ],
            "text/plain": [
              "    Tabela de Tipo do Demandante\n",
              "0  Código Descrição da categoria\n",
              "1                    1 Operadora\n",
              "2         2 Prestador de serviço\n",
              "3                   3 Consumidor\n",
              "4                       4 Gestor\n",
              "5                          5 ANS"
            ]
          },
          "metadata": {
            "tags": []
          },
          "execution_count": 7
        }
      ]
    },
    {
      "cell_type": "code",
      "metadata": {
        "id": "KyvWHyF3zDwH"
      },
      "source": [
        "#testando o formato\n",
        "df[0].to_csv('out.csv', sep='\\t', encoding='utf-8')"
      ],
      "execution_count": 8,
      "outputs": []
    },
    {
      "cell_type": "code",
      "metadata": {
        "colab": {
          "base_uri": "https://localhost:8080/",
          "height": 204
        },
        "id": "vFKaHnJLzQC-",
        "outputId": "ebd889ca-e9ba-4c68-8422-fed5fab6e7a6"
      },
      "source": [
        "df = pd.read_csv('out.csv')\n",
        "df.head()"
      ],
      "execution_count": 9,
      "outputs": [
        {
          "output_type": "execute_result",
          "data": {
            "text/html": [
              "<div>\n",
              "<style scoped>\n",
              "    .dataframe tbody tr th:only-of-type {\n",
              "        vertical-align: middle;\n",
              "    }\n",
              "\n",
              "    .dataframe tbody tr th {\n",
              "        vertical-align: top;\n",
              "    }\n",
              "\n",
              "    .dataframe thead th {\n",
              "        text-align: right;\n",
              "    }\n",
              "</style>\n",
              "<table border=\"1\" class=\"dataframe\">\n",
              "  <thead>\n",
              "    <tr style=\"text-align: right;\">\n",
              "      <th></th>\n",
              "      <th>\\tTabela de Tipo do Demandante</th>\n",
              "    </tr>\n",
              "  </thead>\n",
              "  <tbody>\n",
              "    <tr>\n",
              "      <th>0</th>\n",
              "      <td>0\\tCódigo Descrição da categoria</td>\n",
              "    </tr>\n",
              "    <tr>\n",
              "      <th>1</th>\n",
              "      <td>1\\t1 Operadora</td>\n",
              "    </tr>\n",
              "    <tr>\n",
              "      <th>2</th>\n",
              "      <td>2\\t2 Prestador de serviço</td>\n",
              "    </tr>\n",
              "    <tr>\n",
              "      <th>3</th>\n",
              "      <td>3\\t3 Consumidor</td>\n",
              "    </tr>\n",
              "    <tr>\n",
              "      <th>4</th>\n",
              "      <td>4\\t4 Gestor</td>\n",
              "    </tr>\n",
              "  </tbody>\n",
              "</table>\n",
              "</div>"
            ],
            "text/plain": [
              "     \\tTabela de Tipo do Demandante\n",
              "0  0\\tCódigo Descrição da categoria\n",
              "1                    1\\t1 Operadora\n",
              "2         2\\t2 Prestador de serviço\n",
              "3                   3\\t3 Consumidor\n",
              "4                       4\\t4 Gestor"
            ]
          },
          "metadata": {
            "tags": []
          },
          "execution_count": 9
        }
      ]
    },
    {
      "cell_type": "markdown",
      "metadata": {
        "id": "6bzBnq2e0EbG"
      },
      "source": [
        "##utilizando o método convert_into, com a área da tabela obtida utilizando o https://tabula.technology/"
      ]
    },
    {
      "cell_type": "code",
      "metadata": {
        "id": "s4k6cKUafd-6"
      },
      "source": [
        "from tabula import convert_into"
      ],
      "execution_count": 10,
      "outputs": []
    },
    {
      "cell_type": "code",
      "metadata": {
        "id": "1VcuzS6umOy7"
      },
      "source": [
        "# dimensões capturadas utilizando o sistema Tabula\n",
        "convert_into(\"https://github.com/Miss-Dev/testes_python/raw/main/arquivo_componente_organizacional.pdf\", \"quadro30.csv\", output_format=\"csv\", pages='79', area=[132.83,137.221,213.198,341.118], stream=True)"
      ],
      "execution_count": 12,
      "outputs": []
    },
    {
      "cell_type": "code",
      "metadata": {
        "id": "-NDcCGa2vFho"
      },
      "source": [
        "df_teste = pd.read_csv('quadro30.csv')"
      ],
      "execution_count": 14,
      "outputs": []
    },
    {
      "cell_type": "code",
      "metadata": {
        "colab": {
          "base_uri": "https://localhost:8080/",
          "height": 204
        },
        "id": "R25TwQhVvTNt",
        "outputId": "6b574be3-e16c-4571-c19c-6d8dd4a5b2bc"
      },
      "source": [
        "df_teste.head()"
      ],
      "execution_count": 15,
      "outputs": [
        {
          "output_type": "execute_result",
          "data": {
            "text/html": [
              "<div>\n",
              "<style scoped>\n",
              "    .dataframe tbody tr th:only-of-type {\n",
              "        vertical-align: middle;\n",
              "    }\n",
              "\n",
              "    .dataframe tbody tr th {\n",
              "        vertical-align: top;\n",
              "    }\n",
              "\n",
              "    .dataframe thead th {\n",
              "        text-align: right;\n",
              "    }\n",
              "</style>\n",
              "<table border=\"1\" class=\"dataframe\">\n",
              "  <thead>\n",
              "    <tr style=\"text-align: right;\">\n",
              "      <th></th>\n",
              "      <th>Código</th>\n",
              "      <th>Descrição da categoria</th>\n",
              "    </tr>\n",
              "  </thead>\n",
              "  <tbody>\n",
              "    <tr>\n",
              "      <th>0</th>\n",
              "      <td>1</td>\n",
              "      <td>Operadora</td>\n",
              "    </tr>\n",
              "    <tr>\n",
              "      <th>1</th>\n",
              "      <td>2</td>\n",
              "      <td>Prestador de serviço</td>\n",
              "    </tr>\n",
              "    <tr>\n",
              "      <th>2</th>\n",
              "      <td>3</td>\n",
              "      <td>Consumidor</td>\n",
              "    </tr>\n",
              "    <tr>\n",
              "      <th>3</th>\n",
              "      <td>4</td>\n",
              "      <td>Gestor</td>\n",
              "    </tr>\n",
              "    <tr>\n",
              "      <th>4</th>\n",
              "      <td>5</td>\n",
              "      <td>ANS</td>\n",
              "    </tr>\n",
              "  </tbody>\n",
              "</table>\n",
              "</div>"
            ],
            "text/plain": [
              "   Código Descrição da categoria\n",
              "0       1              Operadora\n",
              "1       2   Prestador de serviço\n",
              "2       3             Consumidor\n",
              "3       4                 Gestor\n",
              "4       5                    ANS"
            ]
          },
          "metadata": {
            "tags": []
          },
          "execution_count": 15
        }
      ]
    },
    {
      "cell_type": "code",
      "metadata": {
        "id": "JZS_2LOtxcTo"
      },
      "source": [
        "\n",
        "df = read_pdf(\"https://github.com/Miss-Dev/testes_python/raw/main/arquivo_componente_organizacional.pdf\", pages=\"79,80,81,82,83,84\", stream=True)\n"
      ],
      "execution_count": 16,
      "outputs": []
    },
    {
      "cell_type": "code",
      "metadata": {
        "colab": {
          "base_uri": "https://localhost:8080/"
        },
        "id": "87kkoHQ-1a9U",
        "outputId": "b93e9e58-fe11-43c0-9260-b347fb225831"
      },
      "source": [
        "df"
      ],
      "execution_count": 17,
      "outputs": [
        {
          "output_type": "execute_result",
          "data": {
            "text/plain": [
              "[    Tabela de Tipo do Demandante\n",
              " 0  Código Descrição da categoria\n",
              " 1                    1 Operadora\n",
              " 2         2 Prestador de serviço\n",
              " 3                   3 Consumidor\n",
              " 4                       4 Gestor\n",
              " 5                          5 ANS,\n",
              "   Unnamed: 0                 Tabela de Categoria do Padrão TISS\n",
              " 0     Código                             Descrição da categoria\n",
              " 1          1                          Componente Organizacional\n",
              " 2          2                 Componente de Conteúdo e Estrutura\n",
              " 3          3  Componente de Representação de Conceitos em Saúde,\n",
              "      4                          Componente de Comunicação\n",
              " 0    5              Componente de Segurança e Privacidade\n",
              " 1   18  Terminologia de diárias, taxas e gases medicinais\n",
              " 2   19                   Terminologia de materiais e OPME\n",
              " 3   20                       Terminologia de medicamentos\n",
              " 4   22   Terminologia de procedimentos e eventos em saúde\n",
              " 5   23             Terminologia de caráter do atendimento\n",
              " 6   24  Terminologia de Classificação Brasileira de Oc...\n",
              " 7   25                  Terminologia de código da despesa\n",
              " 8   26              Terminologia de conselho profissional\n",
              " 9   27                 Terminologia de débitos e créditos\n",
              " 10  28                             Terminologia de dentes\n",
              " 11  29             Terminologia de diagnóstico por imagem\n",
              " 12  30  Terminologia de Escala de capacidade funcional...\n",
              " 13  31              Terminologia de estadiamento do tumor\n",
              " 14  32                     Terminologia de faces do dente\n",
              " 15  33           Terminologia de finalidade do tratamento\n",
              " 16  34                 Terminologia de forma de pagamento\n",
              " 17  35               Terminologia de grau de participação\n",
              " 18  36              Terminologia de indicador de acidente\n",
              " 19  37     Terminologia de Indicador de débito ou crédito\n",
              " 20  38  Terminologia de mensagens (glosas, negativas e...\n",
              " 21  39             Terminologia de motivo de encerramento\n",
              " 22  40  Terminologia de origem do evento de atenção à ...\n",
              " 23  41               Terminologia de regime de internação\n",
              " 24  42                    Terminologia de regiões da boca\n",
              " 25  43                               Terminologia de sexo,\n",
              "     44          Terminologia de situação inicial do dente\n",
              " 0   45              Terminologia de status da solicitação\n",
              " 1   46             Terminologia de status do cancelamento\n",
              " 2   47                Terminologia de status do protocolo\n",
              " 3   48                  Terminologia de técnica utilizada\n",
              " 4   49                 Terminologia de tipo de acomodação\n",
              " 5   50                Terminologia de tipo de atendimento\n",
              " 6   51  Terminologia de tipo de atendimento em odontol...\n",
              " 7   52                   Terminologia de tipo de consulta\n",
              " 8   53              Terminologia de tipo de demonstrativo\n",
              " 9   54                       Terminologia de tipo de guia\n",
              " 10  55                Terminologia de tipo de faturamento\n",
              " 11  56                   Terminologia de natureza da guia\n",
              " 12  57                 Terminologia de tipo de internação\n",
              " 13  58              Terminologia de tipo de quimioterapia\n",
              " 14  59               Terminologia de unidade da federação\n",
              " 15  60                  Terminologia de unidade de medida\n",
              " 16  61                      Terminologia de via de acesso\n",
              " 17  62               Terminologia de via de administração\n",
              " 18  63  Terminologia de grupos de procedimentos e iten...\n",
              " 19  64  Terminologia de forma de envio de procedimento...\n",
              " 20  65                         Terminologia de metástases\n",
              " 21  66                             Terminologia de nódulo\n",
              " 22  67                              Terminologia de tumor\n",
              " 23  68               Terminologia de categoria de despesa\n",
              " 24  69  Terminologia de versão do componente de comuni...\n",
              " 25  70           Terminologia de forma de envio do padrão,\n",
              "        71 Terminologia de tipo de atendimento por operadora intermediária\n",
              " 0    72.0  Terminologia de tipo de identificação de benef...             \n",
              " 1    73.0              Terminologia de etapas de autorização             \n",
              " 2    74.0  Terminologia de motivos de ausência do código ...             \n",
              " 3    87.0                 Terminologia de tabelas de domínio             \n",
              " 4   100.0  Legenda da mensagem de verificação de elegibil...             \n",
              " 5   101.0  Legenda da mensagem de resposta à verificação ...             \n",
              " 6     NaN  Legenda da mensagem de solicitação de autoriza...             \n",
              " 7   102.0                                                NaN             \n",
              " 8     NaN                                      procedimentos             \n",
              " 9   103.0  Legenda da mensagem de autorização para realiz...             \n",
              " 10  104.0     Legenda da mensagem de envio de lote de anexos             \n",
              " 11  105.0  Legenda da mensagem de recebimento de lote de ...             \n",
              " 12  106.0  Legenda da mensagem de solicitação de status d...             \n",
              " 13  107.0  Legenda da mensagem de situação do status de a...             \n",
              " 14  108.0  Legenda da mensagem de envio de lote de guias ...             \n",
              " 15  109.0  Legenda da mensagem de recebimento de lote de ...             \n",
              " 16  110.0  Legenda da mensagem de solicitação de status d...             \n",
              " 17  111.0  Legenda da mensagem de situação do protocolo d...             \n",
              " 18  112.0            Legenda da mensagem de recurso de glosa             \n",
              " 19  113.0  Legenda da mensagem de recebimento do recurso ...             \n",
              " 20  114.0  Legenda da mensagem de resposta ao recurso de ...             \n",
              " 21  115.0  Legenda da mensagem de solicitação de status d...             \n",
              " 22  116.0  Legenda da mensagem de solicitação de demonstr...             \n",
              " 23  117.0  Legenda da mensagem de demonstrativos de retor...             \n",
              " 24  118.0  Legenda da mensagem de comunicação de internaç...             \n",
              " 25    NaN  Legenda da mensagem de resposta à comunicação ...             \n",
              " 26  119.0                                                NaN             \n",
              " 27    NaN                                       beneficiário             \n",
              " 28  120.0  Legenda da mensagem de solicitação de cancelam...             ,\n",
              "       121 Legenda da mensagem de resposta a solicitação de cancelamento da guia\n",
              " 0   122.0  Legenda da mensagem de informação acerca da ne...                   \n",
              " 1   123.0    Legenda da mensagem de informações sobre partos                   \n",
              " 2   124.0     Legenda da mensagem de envio de dados para ANS                   \n",
              " 3   125.0      Legenda da mensagem de utilização de serviços                   \n",
              " 4   126.0     Legenda da mensagem de negativa de autorização                   \n",
              " 5   127.0     Legenda da mensagem de informação sobre partos                   \n",
              " 6   128.0  Mensagem de verificação de elegibilidade (veri...                   \n",
              " 7   129.0  Mensagem de resposta à verificação de elegibil...                   \n",
              " 8     NaN  Mensagem de solicitação de autorização para re...                   \n",
              " 9   130.0                                                NaN                   \n",
              " 10    NaN                          (solicitacaoProcedimento)                   \n",
              " 11  131.0  Mensagem de autorização para realização de pro...                   \n",
              " 12  132.0   Mensagem de envio de lote de anexos (LoteAnexos)                   \n",
              " 13  133.0  Mensagem de recebimento de lote de anexos (rec...                   \n",
              " 14  134.0  Mensagem de solicitação de status de autorizaç...                   \n",
              " 15  135.0  Mensagem de situação do status de autorização ...                   \n",
              " 16  136.0  Mensagem de envio de lote de guias para cobran...                   \n",
              " 17  137.0  Mensagem de recebimento de lote de guias de co...                   \n",
              " 18  138.0  Mensagem de solicitação de status do protocolo...                   \n",
              " 19  139.0  Mensagem de situação do protocolo de cobrança ...                   \n",
              " 20  140.0        Mensagem de recurso de glosa (recursoGlosa)                   \n",
              " 21  141.0  Mensagem de recebimento do recurso de glosa (r...                   \n",
              " 22  142.0  Mensagem de resposta ao recurso de glosa (resp...                   \n",
              " 23    NaN  Mensagem de solicitação de status do recurso d...                   \n",
              " 24  143.0                                                NaN                   \n",
              " 25    NaN                    (solicitaçãoStatusRecursoGlosa)                   \n",
              " 26    NaN  Mensagem de solicitação de demonstrativos de r...                   \n",
              " 27  144.0                                                NaN                   \n",
              " 28    NaN                  (solicitaçãoDemonstrativoRetorno)                   \n",
              " 29  145.0  Mensagem de demonstrativos de retorno para o p...                   ,\n",
              "     Unnamed: 0 Mensagem de comunicação de internação ou alta do beneficiário\n",
              " 0        146.0                                                NaN           \n",
              " 1          NaN                            (comunicacaoInternacao)           \n",
              " 2          NaN  Mensagem de resposta à comunicação de internaç...           \n",
              " 3        147.0                                                NaN           \n",
              " 4          NaN                                (reciboComunicacao)           \n",
              " 5        148.0  Mensagem de solicitação de cancelamento de gui...           \n",
              " 6        149.0  Mensagem de resposta a solicitação de cancelam...           \n",
              " 7        150.0  Mensagem de envio de dados para ANS (envioOper...           \n",
              " 8        151.0                           Anexo de outras despesas           \n",
              " 9        152.0              Anexo de solicitação de quimioterapia           \n",
              " 10       153.0               Anexo de solicitação de radioterapia           \n",
              " 11       154.0                          Anexo de solicitação OPME           \n",
              " 12       155.0   Anexo tratamento odontológico - situação inicial           \n",
              " 13       156.0                     Guia de comprovante presencial           \n",
              " 14       157.0                                   Guia de consulta           \n",
              " 15       158.0          Guia de demonstrativo de análise da conta           \n",
              " 16       159.0                 Guia de demonstrativo de pagamento           \n",
              " 17       160.0  Guia de demonstrativo de pagamento - tratament...           \n",
              " 18       161.0                                 Guia de honorários           \n",
              " 19       162.0                           Guia de recurso de glosa           \n",
              " 20       163.0              Guia de recurso de glosa odontológica           \n",
              " 21       164.0                       Guia de resumo de internação           \n",
              " 22       165.0  Guia de serviços profissionais/serviço auxilia...           \n",
              " 23       166.0                  Guia de solicitação de internação           \n",
              " 24       167.0  Guia de solicitação de prorrogação de internaç...           \n",
              " 25       168.0                    Guia de tratamento odontológico           ]"
            ]
          },
          "metadata": {
            "tags": []
          },
          "execution_count": 17
        }
      ]
    },
    {
      "cell_type": "code",
      "metadata": {
        "id": "oFRpI_1F14LD"
      },
      "source": [
        "#area=[644.064,137.965,740.804,498.878]"
      ],
      "execution_count": null,
      "outputs": []
    },
    {
      "cell_type": "code",
      "metadata": {
        "id": "jzCIlJuCxcqs"
      },
      "source": [
        "# dimensões capturadas utilizando o sistema Tabula\n",
        "#após isso arrumei a tabela obtida no csv\n",
        "convert_into(\"https://github.com/Miss-Dev/testes_python/raw/main/arquivo_componente_organizacional.pdf\", \"quadro31.csv\", output_format=\"csv\", pages='79,80,81,82,83,84', stream=True)"
      ],
      "execution_count": 19,
      "outputs": []
    },
    {
      "cell_type": "code",
      "metadata": {
        "id": "Ry7mN68bySNC"
      },
      "source": [
        "\n",
        "df = read_pdf(\"https://github.com/Miss-Dev/testes_python/raw/main/arquivo_componente_organizacional.pdf\", pages=\"85\", stream=True)\n"
      ],
      "execution_count": 22,
      "outputs": []
    },
    {
      "cell_type": "code",
      "metadata": {
        "colab": {
          "base_uri": "https://localhost:8080/"
        },
        "id": "1pkL2yo637DU",
        "outputId": "84aeaa9c-8ea5-495d-95db-a16b377f67e4"
      },
      "source": [
        "df"
      ],
      "execution_count": 23,
      "outputs": [
        {
          "output_type": "execute_result",
          "data": {
            "text/plain": [
              "[   Tabela de Tipo de Solicitação\n",
              " 0  Código Descrição da categoria\n",
              " 1                    1 Alteração\n",
              " 2                     2 Inclusão\n",
              " 3                     3 Exclusão]"
            ]
          },
          "metadata": {
            "tags": []
          },
          "execution_count": 23
        }
      ]
    },
    {
      "cell_type": "code",
      "metadata": {
        "id": "lxmCbORj3-qe"
      },
      "source": [
        "convert_into(\"https://github.com/Miss-Dev/testes_python/raw/main/arquivo_componente_organizacional.pdf\", \"quadro32.csv\", output_format=\"csv\", pages='85', stream=True)"
      ],
      "execution_count": 29,
      "outputs": []
    },
    {
      "cell_type": "code",
      "metadata": {
        "id": "FsDs_nLo4lps"
      },
      "source": [
        "df_teste = pd.read_csv('quadro32.csv')"
      ],
      "execution_count": 26,
      "outputs": []
    },
    {
      "cell_type": "code",
      "metadata": {
        "colab": {
          "base_uri": "https://localhost:8080/",
          "height": 173
        },
        "id": "h2vVW4Bn4s3F",
        "outputId": "2719550f-9154-469b-c1cf-1adbb4198431"
      },
      "source": [
        "df_teste.head()"
      ],
      "execution_count": 27,
      "outputs": [
        {
          "output_type": "execute_result",
          "data": {
            "text/html": [
              "<div>\n",
              "<style scoped>\n",
              "    .dataframe tbody tr th:only-of-type {\n",
              "        vertical-align: middle;\n",
              "    }\n",
              "\n",
              "    .dataframe tbody tr th {\n",
              "        vertical-align: top;\n",
              "    }\n",
              "\n",
              "    .dataframe thead th {\n",
              "        text-align: right;\n",
              "    }\n",
              "</style>\n",
              "<table border=\"1\" class=\"dataframe\">\n",
              "  <thead>\n",
              "    <tr style=\"text-align: right;\">\n",
              "      <th></th>\n",
              "      <th>Tabela de Tipo de Solicitação</th>\n",
              "    </tr>\n",
              "  </thead>\n",
              "  <tbody>\n",
              "    <tr>\n",
              "      <th>0</th>\n",
              "      <td>Código Descrição da categoria</td>\n",
              "    </tr>\n",
              "    <tr>\n",
              "      <th>1</th>\n",
              "      <td>1 Alteração</td>\n",
              "    </tr>\n",
              "    <tr>\n",
              "      <th>2</th>\n",
              "      <td>2 Inclusão</td>\n",
              "    </tr>\n",
              "    <tr>\n",
              "      <th>3</th>\n",
              "      <td>3 Exclusão</td>\n",
              "    </tr>\n",
              "  </tbody>\n",
              "</table>\n",
              "</div>"
            ],
            "text/plain": [
              "   Tabela de Tipo de Solicitação\n",
              "0  Código Descrição da categoria\n",
              "1                    1 Alteração\n",
              "2                     2 Inclusão\n",
              "3                     3 Exclusão"
            ]
          },
          "metadata": {
            "tags": []
          },
          "execution_count": 27
        }
      ]
    }
  ]
}